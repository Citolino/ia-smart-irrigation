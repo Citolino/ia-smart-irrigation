{
 "cells": [
  {
   "cell_type": "code",
   "execution_count": 1,
   "id": "d7b3d454",
   "metadata": {},
   "outputs": [
    {
     "data": {
      "text/html": [
       "<div>\n",
       "<style scoped>\n",
       "    .dataframe tbody tr th:only-of-type {\n",
       "        vertical-align: middle;\n",
       "    }\n",
       "\n",
       "    .dataframe tbody tr th {\n",
       "        vertical-align: top;\n",
       "    }\n",
       "\n",
       "    .dataframe thead th {\n",
       "        text-align: right;\n",
       "    }\n",
       "</style>\n",
       "<table border=\"1\" class=\"dataframe\">\n",
       "  <thead>\n",
       "    <tr style=\"text-align: right;\">\n",
       "      <th></th>\n",
       "      <th>umidadeSolo</th>\n",
       "      <th>temperaturaAmbiente</th>\n",
       "      <th>umidadeAmbiente</th>\n",
       "      <th>umidadeIdeal</th>\n",
       "      <th>planta</th>\n",
       "      <th>Liga</th>\n",
       "    </tr>\n",
       "  </thead>\n",
       "  <tbody>\n",
       "    <tr>\n",
       "      <th>0</th>\n",
       "      <td>2</td>\n",
       "      <td>15</td>\n",
       "      <td>84</td>\n",
       "      <td>50</td>\n",
       "      <td>Soja</td>\n",
       "      <td>1</td>\n",
       "    </tr>\n",
       "    <tr>\n",
       "      <th>1</th>\n",
       "      <td>46</td>\n",
       "      <td>39</td>\n",
       "      <td>38</td>\n",
       "      <td>50</td>\n",
       "      <td>Soja</td>\n",
       "      <td>1</td>\n",
       "    </tr>\n",
       "    <tr>\n",
       "      <th>2</th>\n",
       "      <td>59</td>\n",
       "      <td>5</td>\n",
       "      <td>24</td>\n",
       "      <td>50</td>\n",
       "      <td>Soja</td>\n",
       "      <td>0</td>\n",
       "    </tr>\n",
       "    <tr>\n",
       "      <th>3</th>\n",
       "      <td>36</td>\n",
       "      <td>44</td>\n",
       "      <td>30</td>\n",
       "      <td>50</td>\n",
       "      <td>Soja</td>\n",
       "      <td>1</td>\n",
       "    </tr>\n",
       "    <tr>\n",
       "      <th>4</th>\n",
       "      <td>66</td>\n",
       "      <td>34</td>\n",
       "      <td>41</td>\n",
       "      <td>50</td>\n",
       "      <td>Soja</td>\n",
       "      <td>0</td>\n",
       "    </tr>\n",
       "    <tr>\n",
       "      <th>5</th>\n",
       "      <td>8</td>\n",
       "      <td>16</td>\n",
       "      <td>66</td>\n",
       "      <td>50</td>\n",
       "      <td>Soja</td>\n",
       "      <td>1</td>\n",
       "    </tr>\n",
       "    <tr>\n",
       "      <th>6</th>\n",
       "      <td>32</td>\n",
       "      <td>40</td>\n",
       "      <td>24</td>\n",
       "      <td>50</td>\n",
       "      <td>Soja</td>\n",
       "      <td>1</td>\n",
       "    </tr>\n",
       "    <tr>\n",
       "      <th>7</th>\n",
       "      <td>100</td>\n",
       "      <td>3</td>\n",
       "      <td>25</td>\n",
       "      <td>50</td>\n",
       "      <td>Soja</td>\n",
       "      <td>0</td>\n",
       "    </tr>\n",
       "    <tr>\n",
       "      <th>8</th>\n",
       "      <td>45</td>\n",
       "      <td>12</td>\n",
       "      <td>5</td>\n",
       "      <td>50</td>\n",
       "      <td>Soja</td>\n",
       "      <td>1</td>\n",
       "    </tr>\n",
       "    <tr>\n",
       "      <th>9</th>\n",
       "      <td>79</td>\n",
       "      <td>7</td>\n",
       "      <td>58</td>\n",
       "      <td>50</td>\n",
       "      <td>Soja</td>\n",
       "      <td>0</td>\n",
       "    </tr>\n",
       "    <tr>\n",
       "      <th>10</th>\n",
       "      <td>30</td>\n",
       "      <td>3</td>\n",
       "      <td>37</td>\n",
       "      <td>50</td>\n",
       "      <td>Soja</td>\n",
       "      <td>1</td>\n",
       "    </tr>\n",
       "    <tr>\n",
       "      <th>11</th>\n",
       "      <td>27</td>\n",
       "      <td>12</td>\n",
       "      <td>33</td>\n",
       "      <td>50</td>\n",
       "      <td>Soja</td>\n",
       "      <td>1</td>\n",
       "    </tr>\n",
       "    <tr>\n",
       "      <th>12</th>\n",
       "      <td>2</td>\n",
       "      <td>4</td>\n",
       "      <td>68</td>\n",
       "      <td>50</td>\n",
       "      <td>Soja</td>\n",
       "      <td>1</td>\n",
       "    </tr>\n",
       "    <tr>\n",
       "      <th>13</th>\n",
       "      <td>16</td>\n",
       "      <td>35</td>\n",
       "      <td>42</td>\n",
       "      <td>50</td>\n",
       "      <td>Soja</td>\n",
       "      <td>1</td>\n",
       "    </tr>\n",
       "    <tr>\n",
       "      <th>14</th>\n",
       "      <td>40</td>\n",
       "      <td>39</td>\n",
       "      <td>7</td>\n",
       "      <td>50</td>\n",
       "      <td>Soja</td>\n",
       "      <td>1</td>\n",
       "    </tr>\n",
       "    <tr>\n",
       "      <th>15</th>\n",
       "      <td>10</td>\n",
       "      <td>5</td>\n",
       "      <td>56</td>\n",
       "      <td>50</td>\n",
       "      <td>Soja</td>\n",
       "      <td>1</td>\n",
       "    </tr>\n",
       "    <tr>\n",
       "      <th>16</th>\n",
       "      <td>75</td>\n",
       "      <td>33</td>\n",
       "      <td>8</td>\n",
       "      <td>50</td>\n",
       "      <td>Soja</td>\n",
       "      <td>0</td>\n",
       "    </tr>\n",
       "    <tr>\n",
       "      <th>17</th>\n",
       "      <td>71</td>\n",
       "      <td>39</td>\n",
       "      <td>45</td>\n",
       "      <td>50</td>\n",
       "      <td>Soja</td>\n",
       "      <td>0</td>\n",
       "    </tr>\n",
       "    <tr>\n",
       "      <th>18</th>\n",
       "      <td>63</td>\n",
       "      <td>20</td>\n",
       "      <td>55</td>\n",
       "      <td>50</td>\n",
       "      <td>Soja</td>\n",
       "      <td>0</td>\n",
       "    </tr>\n",
       "    <tr>\n",
       "      <th>19</th>\n",
       "      <td>38</td>\n",
       "      <td>35</td>\n",
       "      <td>53</td>\n",
       "      <td>50</td>\n",
       "      <td>Soja</td>\n",
       "      <td>1</td>\n",
       "    </tr>\n",
       "    <tr>\n",
       "      <th>20</th>\n",
       "      <td>48</td>\n",
       "      <td>1</td>\n",
       "      <td>63</td>\n",
       "      <td>50</td>\n",
       "      <td>Soja</td>\n",
       "      <td>0</td>\n",
       "    </tr>\n",
       "    <tr>\n",
       "      <th>21</th>\n",
       "      <td>39</td>\n",
       "      <td>5</td>\n",
       "      <td>98</td>\n",
       "      <td>50</td>\n",
       "      <td>Soja</td>\n",
       "      <td>0</td>\n",
       "    </tr>\n",
       "    <tr>\n",
       "      <th>22</th>\n",
       "      <td>40</td>\n",
       "      <td>11</td>\n",
       "      <td>41</td>\n",
       "      <td>50</td>\n",
       "      <td>Soja</td>\n",
       "      <td>1</td>\n",
       "    </tr>\n",
       "    <tr>\n",
       "      <th>23</th>\n",
       "      <td>52</td>\n",
       "      <td>12</td>\n",
       "      <td>78</td>\n",
       "      <td>50</td>\n",
       "      <td>Soja</td>\n",
       "      <td>0</td>\n",
       "    </tr>\n",
       "    <tr>\n",
       "      <th>24</th>\n",
       "      <td>63</td>\n",
       "      <td>10</td>\n",
       "      <td>20</td>\n",
       "      <td>50</td>\n",
       "      <td>Soja</td>\n",
       "      <td>0</td>\n",
       "    </tr>\n",
       "    <tr>\n",
       "      <th>25</th>\n",
       "      <td>69</td>\n",
       "      <td>20</td>\n",
       "      <td>24</td>\n",
       "      <td>50</td>\n",
       "      <td>Soja</td>\n",
       "      <td>0</td>\n",
       "    </tr>\n",
       "    <tr>\n",
       "      <th>26</th>\n",
       "      <td>66</td>\n",
       "      <td>12</td>\n",
       "      <td>44</td>\n",
       "      <td>50</td>\n",
       "      <td>Soja</td>\n",
       "      <td>0</td>\n",
       "    </tr>\n",
       "    <tr>\n",
       "      <th>27</th>\n",
       "      <td>68</td>\n",
       "      <td>18</td>\n",
       "      <td>8</td>\n",
       "      <td>50</td>\n",
       "      <td>Soja</td>\n",
       "      <td>0</td>\n",
       "    </tr>\n",
       "    <tr>\n",
       "      <th>28</th>\n",
       "      <td>72</td>\n",
       "      <td>44</td>\n",
       "      <td>12</td>\n",
       "      <td>50</td>\n",
       "      <td>Soja</td>\n",
       "      <td>0</td>\n",
       "    </tr>\n",
       "    <tr>\n",
       "      <th>29</th>\n",
       "      <td>62</td>\n",
       "      <td>42</td>\n",
       "      <td>10</td>\n",
       "      <td>50</td>\n",
       "      <td>Soja</td>\n",
       "      <td>0</td>\n",
       "    </tr>\n",
       "    <tr>\n",
       "      <th>30</th>\n",
       "      <td>78</td>\n",
       "      <td>43</td>\n",
       "      <td>82</td>\n",
       "      <td>50</td>\n",
       "      <td>Soja</td>\n",
       "      <td>0</td>\n",
       "    </tr>\n",
       "    <tr>\n",
       "      <th>31</th>\n",
       "      <td>5</td>\n",
       "      <td>43</td>\n",
       "      <td>2</td>\n",
       "      <td>50</td>\n",
       "      <td>Soja</td>\n",
       "      <td>1</td>\n",
       "    </tr>\n",
       "    <tr>\n",
       "      <th>32</th>\n",
       "      <td>28</td>\n",
       "      <td>19</td>\n",
       "      <td>84</td>\n",
       "      <td>50</td>\n",
       "      <td>Soja</td>\n",
       "      <td>0</td>\n",
       "    </tr>\n",
       "    <tr>\n",
       "      <th>33</th>\n",
       "      <td>94</td>\n",
       "      <td>38</td>\n",
       "      <td>57</td>\n",
       "      <td>50</td>\n",
       "      <td>Soja</td>\n",
       "      <td>0</td>\n",
       "    </tr>\n",
       "    <tr>\n",
       "      <th>34</th>\n",
       "      <td>66</td>\n",
       "      <td>40</td>\n",
       "      <td>38</td>\n",
       "      <td>50</td>\n",
       "      <td>Soja</td>\n",
       "      <td>0</td>\n",
       "    </tr>\n",
       "    <tr>\n",
       "      <th>35</th>\n",
       "      <td>95</td>\n",
       "      <td>4</td>\n",
       "      <td>46</td>\n",
       "      <td>50</td>\n",
       "      <td>Soja</td>\n",
       "      <td>0</td>\n",
       "    </tr>\n",
       "    <tr>\n",
       "      <th>36</th>\n",
       "      <td>57</td>\n",
       "      <td>5</td>\n",
       "      <td>80</td>\n",
       "      <td>50</td>\n",
       "      <td>Soja</td>\n",
       "      <td>0</td>\n",
       "    </tr>\n",
       "    <tr>\n",
       "      <th>37</th>\n",
       "      <td>68</td>\n",
       "      <td>10</td>\n",
       "      <td>29</td>\n",
       "      <td>50</td>\n",
       "      <td>Soja</td>\n",
       "      <td>0</td>\n",
       "    </tr>\n",
       "    <tr>\n",
       "      <th>38</th>\n",
       "      <td>60</td>\n",
       "      <td>12</td>\n",
       "      <td>29</td>\n",
       "      <td>50</td>\n",
       "      <td>Soja</td>\n",
       "      <td>0</td>\n",
       "    </tr>\n",
       "    <tr>\n",
       "      <th>39</th>\n",
       "      <td>59</td>\n",
       "      <td>36</td>\n",
       "      <td>34</td>\n",
       "      <td>50</td>\n",
       "      <td>Soja</td>\n",
       "      <td>0</td>\n",
       "    </tr>\n",
       "    <tr>\n",
       "      <th>40</th>\n",
       "      <td>69</td>\n",
       "      <td>9</td>\n",
       "      <td>46</td>\n",
       "      <td>50</td>\n",
       "      <td>Soja</td>\n",
       "      <td>0</td>\n",
       "    </tr>\n",
       "    <tr>\n",
       "      <th>41</th>\n",
       "      <td>7</td>\n",
       "      <td>29</td>\n",
       "      <td>94</td>\n",
       "      <td>50</td>\n",
       "      <td>Soja</td>\n",
       "      <td>1</td>\n",
       "    </tr>\n",
       "    <tr>\n",
       "      <th>42</th>\n",
       "      <td>77</td>\n",
       "      <td>27</td>\n",
       "      <td>42</td>\n",
       "      <td>50</td>\n",
       "      <td>Soja</td>\n",
       "      <td>0</td>\n",
       "    </tr>\n",
       "    <tr>\n",
       "      <th>43</th>\n",
       "      <td>93</td>\n",
       "      <td>17</td>\n",
       "      <td>2</td>\n",
       "      <td>50</td>\n",
       "      <td>Soja</td>\n",
       "      <td>0</td>\n",
       "    </tr>\n",
       "    <tr>\n",
       "      <th>44</th>\n",
       "      <td>35</td>\n",
       "      <td>12</td>\n",
       "      <td>92</td>\n",
       "      <td>50</td>\n",
       "      <td>Soja</td>\n",
       "      <td>1</td>\n",
       "    </tr>\n",
       "    <tr>\n",
       "      <th>45</th>\n",
       "      <td>47</td>\n",
       "      <td>45</td>\n",
       "      <td>72</td>\n",
       "      <td>50</td>\n",
       "      <td>Soja</td>\n",
       "      <td>0</td>\n",
       "    </tr>\n",
       "    <tr>\n",
       "      <th>46</th>\n",
       "      <td>84</td>\n",
       "      <td>6</td>\n",
       "      <td>60</td>\n",
       "      <td>50</td>\n",
       "      <td>Soja</td>\n",
       "      <td>0</td>\n",
       "    </tr>\n",
       "    <tr>\n",
       "      <th>47</th>\n",
       "      <td>42</td>\n",
       "      <td>6</td>\n",
       "      <td>53</td>\n",
       "      <td>50</td>\n",
       "      <td>Soja</td>\n",
       "      <td>1</td>\n",
       "    </tr>\n",
       "    <tr>\n",
       "      <th>48</th>\n",
       "      <td>41</td>\n",
       "      <td>31</td>\n",
       "      <td>54</td>\n",
       "      <td>50</td>\n",
       "      <td>Soja</td>\n",
       "      <td>1</td>\n",
       "    </tr>\n",
       "    <tr>\n",
       "      <th>49</th>\n",
       "      <td>33</td>\n",
       "      <td>34</td>\n",
       "      <td>4</td>\n",
       "      <td>50</td>\n",
       "      <td>Soja</td>\n",
       "      <td>1</td>\n",
       "    </tr>\n",
       "  </tbody>\n",
       "</table>\n",
       "</div>"
      ],
      "text/plain": [
       "    umidadeSolo  temperaturaAmbiente  umidadeAmbiente  umidadeIdeal planta  \\\n",
       "0             2                   15               84            50   Soja   \n",
       "1            46                   39               38            50   Soja   \n",
       "2            59                    5               24            50   Soja   \n",
       "3            36                   44               30            50   Soja   \n",
       "4            66                   34               41            50   Soja   \n",
       "5             8                   16               66            50   Soja   \n",
       "6            32                   40               24            50   Soja   \n",
       "7           100                    3               25            50   Soja   \n",
       "8            45                   12                5            50   Soja   \n",
       "9            79                    7               58            50   Soja   \n",
       "10           30                    3               37            50   Soja   \n",
       "11           27                   12               33            50   Soja   \n",
       "12            2                    4               68            50   Soja   \n",
       "13           16                   35               42            50   Soja   \n",
       "14           40                   39                7            50   Soja   \n",
       "15           10                    5               56            50   Soja   \n",
       "16           75                   33                8            50   Soja   \n",
       "17           71                   39               45            50   Soja   \n",
       "18           63                   20               55            50   Soja   \n",
       "19           38                   35               53            50   Soja   \n",
       "20           48                    1               63            50   Soja   \n",
       "21           39                    5               98            50   Soja   \n",
       "22           40                   11               41            50   Soja   \n",
       "23           52                   12               78            50   Soja   \n",
       "24           63                   10               20            50   Soja   \n",
       "25           69                   20               24            50   Soja   \n",
       "26           66                   12               44            50   Soja   \n",
       "27           68                   18                8            50   Soja   \n",
       "28           72                   44               12            50   Soja   \n",
       "29           62                   42               10            50   Soja   \n",
       "30           78                   43               82            50   Soja   \n",
       "31            5                   43                2            50   Soja   \n",
       "32           28                   19               84            50   Soja   \n",
       "33           94                   38               57            50   Soja   \n",
       "34           66                   40               38            50   Soja   \n",
       "35           95                    4               46            50   Soja   \n",
       "36           57                    5               80            50   Soja   \n",
       "37           68                   10               29            50   Soja   \n",
       "38           60                   12               29            50   Soja   \n",
       "39           59                   36               34            50   Soja   \n",
       "40           69                    9               46            50   Soja   \n",
       "41            7                   29               94            50   Soja   \n",
       "42           77                   27               42            50   Soja   \n",
       "43           93                   17                2            50   Soja   \n",
       "44           35                   12               92            50   Soja   \n",
       "45           47                   45               72            50   Soja   \n",
       "46           84                    6               60            50   Soja   \n",
       "47           42                    6               53            50   Soja   \n",
       "48           41                   31               54            50   Soja   \n",
       "49           33                   34                4            50   Soja   \n",
       "\n",
       "    Liga  \n",
       "0      1  \n",
       "1      1  \n",
       "2      0  \n",
       "3      1  \n",
       "4      0  \n",
       "5      1  \n",
       "6      1  \n",
       "7      0  \n",
       "8      1  \n",
       "9      0  \n",
       "10     1  \n",
       "11     1  \n",
       "12     1  \n",
       "13     1  \n",
       "14     1  \n",
       "15     1  \n",
       "16     0  \n",
       "17     0  \n",
       "18     0  \n",
       "19     1  \n",
       "20     0  \n",
       "21     0  \n",
       "22     1  \n",
       "23     0  \n",
       "24     0  \n",
       "25     0  \n",
       "26     0  \n",
       "27     0  \n",
       "28     0  \n",
       "29     0  \n",
       "30     0  \n",
       "31     1  \n",
       "32     0  \n",
       "33     0  \n",
       "34     0  \n",
       "35     0  \n",
       "36     0  \n",
       "37     0  \n",
       "38     0  \n",
       "39     0  \n",
       "40     0  \n",
       "41     1  \n",
       "42     0  \n",
       "43     0  \n",
       "44     1  \n",
       "45     0  \n",
       "46     0  \n",
       "47     1  \n",
       "48     1  \n",
       "49     1  "
      ]
     },
     "execution_count": 1,
     "metadata": {},
     "output_type": "execute_result"
    }
   ],
   "source": [
    "import pandas as pd\n",
    "import numpy as np\n",
    "import matplotlib.pyplot as plt\n",
    "import seaborn as sns\n",
    "%matplotlib inline\n",
    "\n",
    "df = pd.read_csv('Pasta1.csv', sep = ';', encoding = 'utf-8',engine='c')\n",
    "df\n"
   ]
  },
  {
   "cell_type": "code",
   "execution_count": 2,
   "id": "4bc02dd7",
   "metadata": {
    "scrolled": true
   },
   "outputs": [
    {
     "data": {
      "text/plain": [
       "<seaborn.axisgrid.PairGrid at 0x1fa7a8dd370>"
      ]
     },
     "execution_count": 2,
     "metadata": {},
     "output_type": "execute_result"
    },
    {
     "data": {
      "image/png": "[encoded data removed]",
      "text/plain": [
       "<Figure size 900x900 with 30 Axes>"
      ]
     },
     "metadata": {
      "needs_background": "light"
     },
     "output_type": "display_data"
    }
   ],
   "source": [
    "sns.pairplot(df)"
   ]
  },
  {
   "cell_type": "code",
   "execution_count": 3,
   "id": "957cb0cc",
   "metadata": {},
   "outputs": [
    {
     "data": {
      "text/plain": [
       "<AxesSubplot:xlabel='umidadeSolo', ylabel='umidadeIdeal'>"
      ]
     },
     "execution_count": 3,
     "metadata": {},
     "output_type": "execute_result"
    },
    {
     "data": {
      "image/png": "[encoded data removed]",
      "text/plain": [
       "<Figure size 432x288 with 1 Axes>"
      ]
     },
     "metadata": {
      "needs_background": "light"
     },
     "output_type": "display_data"
    }
   ],
   "source": [
    "sns.scatterplot(x=\"umidadeSolo\",y=\"umidadeIdeal\",data=df)"
   ]
  },
  {
   "cell_type": "code",
   "execution_count": 4,
   "id": "9ff4693b",
   "metadata": {},
   "outputs": [
    {
     "data": {
      "text/plain": [
       "<AxesSubplot:xlabel='umidadeSolo', ylabel='umidadeIdeal'>"
      ]
     },
     "execution_count": 4,
     "metadata": {},
     "output_type": "execute_result"
    },
    {
     "data": {
      "image/png": "[encoded data removed]",
      "text/plain": [
       "<Figure size 432x288 with 1 Axes>"
      ]
     },
     "metadata": {
      "needs_background": "light"
     },
     "output_type": "display_data"
    }
   ],
   "source": [
    "sns.scatterplot(x=\"umidadeSolo\",y=\"umidadeIdeal\",data=df,hue=\"Liga\")"
   ]
  },
  {
   "cell_type": "code",
   "execution_count": 5,
   "id": "971d5794",
   "metadata": {},
   "outputs": [
    {
     "data": {
      "text/plain": [
       "<AxesSubplot:xlabel='umidadeSolo', ylabel='temperaturaAmbiente'>"
      ]
     },
     "execution_count": 5,
     "metadata": {},
     "output_type": "execute_result"
    },
    {
     "data": {
      "image/png": "[encoded data removed]",
      "text/plain": [
       "<Figure size 432x288 with 1 Axes>"
      ]
     },
     "metadata": {
      "needs_background": "light"
     },
     "output_type": "display_data"
    }
   ],
   "source": [
    "sns.scatterplot(x=\"umidadeSolo\",y=\"temperaturaAmbiente\",data=df,hue=\"Liga\")"
   ]
  },
  {
   "cell_type": "code",
   "execution_count": 6,
   "id": "2ad3de8d",
   "metadata": {},
   "outputs": [
    {
     "data": {
      "text/plain": [
       "<AxesSubplot:xlabel='umidadeSolo', ylabel='umidadeAmbiente'>"
      ]
     },
     "execution_count": 6,
     "metadata": {},
     "output_type": "execute_result"
    },
    {
     "data": {
      "image/png": "[encoded data removed]",
      "text/plain": [
       "<Figure size 432x288 with 1 Axes>"
      ]
     },
     "metadata": {
      "needs_background": "light"
     },
     "output_type": "display_data"
    }
   ],
   "source": [
    "sns.scatterplot(x=\"umidadeSolo\",y=\"umidadeAmbiente\",data=df,hue=\"Liga\")"
   ]
  },
  {
   "cell_type": "code",
   "execution_count": 7,
   "id": "da7d591b",
   "metadata": {},
   "outputs": [
    {
     "data": {
      "text/plain": [
       "<AxesSubplot:xlabel='temperaturaAmbiente', ylabel='umidadeAmbiente'>"
      ]
     },
     "execution_count": 7,
     "metadata": {},
     "output_type": "execute_result"
    },
    {
     "data": {
      "image/png": "[encoded data removed]",
      "text/plain": [
       "<Figure size 432x288 with 1 Axes>"
      ]
     },
     "metadata": {
      "needs_background": "light"
     },
     "output_type": "display_data"
    }
   ],
   "source": [
    "sns.scatterplot(x=\"temperaturaAmbiente\",y=\"umidadeAmbiente\",data=df,hue=\"Liga\")"
   ]
  },
  {
   "cell_type": "code",
   "execution_count": 8,
   "id": "e62a0524",
   "metadata": {},
   "outputs": [],
   "source": [
    "#from sklearn.ensemble import  RandomForestClassifier\n",
    "\n",
    "#modelo = RandomForestClassifier(bootstrap=True, ccp_alpha=0.0, class_weight=None,\n",
    "#                       criterion='gini', max_depth=None, max_features='auto',\n",
    "#                       max_leaf_nodes=None, max_samples=None,\n",
    "#                       min_impurity_decrease=0.0, min_impurity_split=None,\n",
    "#                       min_samples_leaf=1, min_samples_split=2,\n",
    "#                       min_weight_fraction_leaf=0.0, n_estimators=100,\n",
    "#                       n_jobs=-1, oob_score=False, random_state=6654, verbose=0,\n",
    "#                       warm_start=False)"
   ]
  },
  {
   "cell_type": "code",
   "execution_count": 9,
   "id": "81cbda7d",
   "metadata": {
    "scrolled": true
   },
   "outputs": [
    {
     "data": {
      "text/plain": [
       "LogisticRegression(max_iter=1000, random_state=1551)"
      ]
     },
     "execution_count": 9,
     "metadata": {},
     "output_type": "execute_result"
    }
   ],
   "source": [
    "from sklearn.model_selection import train_test_split\n",
    "from sklearn.linear_model import LogisticRegression\n",
    "from sklearn.metrics import accuracy_score\n",
    "\n",
    "x = df [[\"umidadeSolo\",\"umidadeAmbiente\",\"umidadeIdeal\",\"temperaturaAmbiente\"]]\n",
    "y = df[\"Liga\"]\n",
    "\n",
    "SEED = 1551\n",
    "\n",
    "treino_x, teste_x, treino_y, teste_y = train_test_split(x, y,\n",
    "                                                         random_state = SEED, test_size = 0.25,\n",
    "                                                         stratify = y)\n",
    "\n",
    "modelo = LogisticRegression(C=1.0, class_weight=None, dual=False, fit_intercept=True,\n",
    "                   intercept_scaling=1, l1_ratio=None, max_iter=1000,\n",
    "                   multi_class='auto', n_jobs=None, penalty='l2',\n",
    "                   random_state=SEED, solver='lbfgs', tol=0.0001, verbose=0,\n",
    "                   warm_start=False)\n",
    "modelo.fit(treino_x, treino_y)\n"
   ]
  },
  {
   "cell_type": "code",
   "execution_count": 10,
   "id": "890c1730",
   "metadata": {},
   "outputs": [],
   "source": [
    "previsoes = modelo.predict(teste_x)"
   ]
  },
  {
   "cell_type": "code",
   "execution_count": 11,
   "id": "2fa3edc5",
   "metadata": {},
   "outputs": [
    {
     "name": "stdout",
     "output_type": "stream",
     "text": [
      "A acurácia do algoritimo de baseline foi  38.46%\n"
     ]
    }
   ],
   "source": [
    "previsoes_de_base = np.ones(13)\n",
    "acuracia = accuracy_score(teste_y, previsoes_de_base) * 100\n",
    "print(\"A acurácia do algoritimo de baseline foi  %.2f%%\" % acuracia)"
   ]
  },
  {
   "cell_type": "code",
   "execution_count": 12,
   "id": "45606fb8",
   "metadata": {},
   "outputs": [
    {
     "data": {
      "text/plain": [
       "<AxesSubplot:xlabel='umidadeSolo', ylabel='umidadeIdeal'>"
      ]
     },
     "execution_count": 12,
     "metadata": {},
     "output_type": "execute_result"
    },
    {
     "data": {
      "image/png": "[encoded data removed]",
      "text/plain": [
       "<Figure size 432x288 with 1 Axes>"
      ]
     },
     "metadata": {
      "needs_background": "light"
     },
     "output_type": "display_data"
    }
   ],
   "source": [
    "sns.scatterplot(x=\"umidadeSolo\",y=\"umidadeIdeal\",data=teste_x,hue=teste_y)"
   ]
  },
  {
   "cell_type": "code",
   "execution_count": 13,
   "id": "87d600be",
   "metadata": {},
   "outputs": [
    {
     "data": {
      "text/plain": [
       "<AxesSubplot:xlabel='umidadeSolo', ylabel='umidadeAmbiente'>"
      ]
     },
     "execution_count": 13,
     "metadata": {},
     "output_type": "execute_result"
    },
    {
     "data": {
      "image/png": "[encoded data removed]",
      "text/plain": [
       "<Figure size 432x288 with 1 Axes>"
      ]
     },
     "metadata": {
      "needs_background": "light"
     },
     "output_type": "display_data"
    }
   ],
   "source": [
    "sns.scatterplot(x=\"umidadeSolo\",y=\"umidadeAmbiente\",data=teste_x,hue=teste_y)"
   ]
  },
  {
   "cell_type": "code",
   "execution_count": 14,
   "id": "b550b3a8",
   "metadata": {},
   "outputs": [
    {
     "data": {
      "text/plain": [
       "<AxesSubplot:xlabel='umidadeSolo', ylabel='temperaturaAmbiente'>"
      ]
     },
     "execution_count": 14,
     "metadata": {},
     "output_type": "execute_result"
    },
    {
     "data": {
      "image/png": "[encoded data removed]",
      "text/plain": [
       "<Figure size 432x288 with 1 Axes>"
      ]
     },
     "metadata": {
      "needs_background": "light"
     },
     "output_type": "display_data"
    }
   ],
   "source": [
    "sns.scatterplot(x=\"umidadeSolo\",y=\"temperaturaAmbiente\",data=teste_x,hue=teste_y)"
   ]
  },
  {
   "cell_type": "code",
   "execution_count": 15,
   "id": "2dbdd82c",
   "metadata": {},
   "outputs": [
    {
     "data": {
      "text/plain": [
       "Text(0, 0.5, 'Y Estimado')"
      ]
     },
     "execution_count": 15,
     "metadata": {},
     "output_type": "execute_result"
    },
    {
     "data": {
      "image/png": "[encoded data removed]",
      "text/plain": [
       "<Figure size 432x288 with 1 Axes>"
      ]
     },
     "metadata": {
      "needs_background": "light"
     },
     "output_type": "display_data"
    }
   ],
   "source": [
    "\n",
    "plt.scatter(teste_y,previsoes)\n",
    "plt.xlabel('Y Real')\n",
    "plt.ylabel('Y Estimado')"
   ]
  },
  {
   "cell_type": "code",
   "execution_count": 16,
   "id": "085e6a87",
   "metadata": {},
   "outputs": [
    {
     "name": "stdout",
     "output_type": "stream",
     "text": [
      "A acurácia foi 100.00%\n"
     ]
    }
   ],
   "source": [
    "previsoes = modelo.predict(teste_x)\n",
    "\n",
    "acuracia = accuracy_score(teste_y, previsoes) * 100\n",
    "print(\"A acurácia foi %.2f%%\" % acuracia)"
   ]
  },
  {
   "cell_type": "code",
   "execution_count": 17,
   "id": "f281cc2b",
   "metadata": {},
   "outputs": [
    {
     "name": "stdout",
     "output_type": "stream",
     "text": [
      "MAE: 0.0\n",
      "MSE: 0.0\n",
      "RMSE: 0.0\n"
     ]
    }
   ],
   "source": [
    "from sklearn import metrics\n",
    "\n",
    "print('MAE:', metrics.mean_absolute_error(teste_y, previsoes))\n",
    "print('MSE:', metrics.mean_squared_error(teste_y, previsoes))\n",
    "print('RMSE:', np.sqrt(metrics.mean_squared_error(teste_y, previsoes)))"
   ]
  },
  {
   "cell_type": "code",
   "execution_count": 18,
   "id": "e13c72d3",
   "metadata": {},
   "outputs": [
    {
     "data": {
      "text/plain": [
       "array([[8, 0],\n",
       "       [0, 5]], dtype=int64)"
      ]
     },
     "execution_count": 18,
     "metadata": {},
     "output_type": "execute_result"
    }
   ],
   "source": [
    "from sklearn.metrics import confusion_matrix\n",
    "confusion_matrix(teste_y,previsoes)\n"
   ]
  },
  {
   "cell_type": "code",
   "execution_count": 19,
   "id": "169380fa",
   "metadata": {},
   "outputs": [
    {
     "data": {
      "text/plain": [
       "1.0"
      ]
     },
     "execution_count": 19,
     "metadata": {},
     "output_type": "execute_result"
    }
   ],
   "source": [
    "from sklearn.metrics import f1_score\n",
    "f1_score(teste_y,previsoes)"
   ]
  },
  {
   "cell_type": "code",
   "execution_count": 33,
   "id": "ee43ba7a",
   "metadata": {},
   "outputs": [
    {
     "name": "stdout",
     "output_type": "stream",
     "text": [
      "Desligar/não Ligar o sistema\n"
     ]
    }
   ],
   "source": [
    "umidadeSolo = 51\n",
    "\n",
    "umidadeAmbiente = 40\n",
    "\n",
    "temperaturaAmbiente = 20\n",
    "\n",
    "umidadeIdeal = 50\n",
    "\n",
    "new_predict = np.array([umidadeSolo, umidadeAmbiente, temperaturaAmbiente,umidadeIdeal]).reshape(1,-1)\n",
    "\n",
    "predição = modelo.predict(new_predict)\n",
    "\n",
    "if predição == 1 :\n",
    "    print(\"Ligar o sistema\")\n",
    "else:\n",
    "    print(\"Desligar/não Ligar o sistema\")"
   ]
  },
  {
   "cell_type": "code",
   "execution_count": 36,
   "id": "fbfb1322",
   "metadata": {},
   "outputs": [],
   "source": [
    "import joblib\n"
   ]
  },
  {
   "cell_type": "code",
   "execution_count": 38,
   "id": "31e609c5",
   "metadata": {},
   "outputs": [
    {
     "data": {
      "text/plain": [
       "['model_smart.pkl']"
      ]
     },
     "execution_count": 38,
     "metadata": {},
     "output_type": "execute_result"
    }
   ],
   "source": [
    "joblib.dump(modelo,'model_smart.pkl')"
   ]
  }
 ],
 "metadata": {
  "kernelspec": {
   "display_name": "Python 3",
   "language": "python",
   "name": "python3"
  },
  "language_info": {
   "codemirror_mode": {
    "name": "ipython",
    "version": 3
   },
   "file_extension": ".py",
   "mimetype": "text/x-python",
   "name": "python",
   "nbconvert_exporter": "python",
   "pygments_lexer": "ipython3",
   "version": "3.8.8"
  }
 },
 "nbformat": 4,
 "nbformat_minor": 5
}
